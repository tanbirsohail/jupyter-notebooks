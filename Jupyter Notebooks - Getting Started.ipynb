{
 "cells": [
  {
   "cell_type": "markdown",
   "metadata": {},
   "source": [
    "# Learning Jupyter Notebook"
   ]
  },
  {
   "cell_type": "code",
   "execution_count": 1,
   "metadata": {},
   "outputs": [],
   "source": [
    "import numpy as np"
   ]
  },
  {
   "cell_type": "code",
   "execution_count": 2,
   "metadata": {},
   "outputs": [
    {
     "data": {
      "text/plain": [
       "0.8939966636005579"
      ]
     },
     "execution_count": 2,
     "metadata": {},
     "output_type": "execute_result"
    }
   ],
   "source": [
    "np.sin(90)"
   ]
  },
  {
   "cell_type": "markdown",
   "metadata": {},
   "source": [
    "### The single question mark gives short description while double question marks gives source code for some functions"
   ]
  },
  {
   "cell_type": "code",
   "execution_count": 3,
   "metadata": {},
   "outputs": [],
   "source": [
    "np.sin?"
   ]
  },
  {
   "cell_type": "code",
   "execution_count": 4,
   "metadata": {},
   "outputs": [],
   "source": [
    "np.all??"
   ]
  },
  {
   "cell_type": "markdown",
   "metadata": {},
   "source": [
    "### % symbol represents terminal commands. It can be used to run certain terminal commands inside notebook."
   ]
  },
  {
   "cell_type": "code",
   "execution_count": 5,
   "metadata": {},
   "outputs": [
    {
     "data": {
      "text/plain": [
       "'C:\\\\Users\\\\user1\\\\Documents\\\\GitHub\\\\jupyter-notebooks'"
      ]
     },
     "execution_count": 5,
     "metadata": {},
     "output_type": "execute_result"
    }
   ],
   "source": [
    "%pwd"
   ]
  },
  {
   "cell_type": "markdown",
   "metadata": {},
   "source": [
    "Similarly %% will run certain magic commands for multiple lines, whereas % runs the magic ocmmand for single line only."
   ]
  },
  {
   "cell_type": "code",
   "execution_count": 6,
   "metadata": {},
   "outputs": [
    {
     "name": "stdout",
     "output_type": "stream",
     "text": [
      "-0.9589242746631385\n",
      "-0.9589242746631385\n",
      "-0.9589242746631385\n",
      "-0.9589242746631385\n",
      "-0.9589242746631385\n",
      "Wall time: 4 ms\n"
     ]
    }
   ],
   "source": [
    "%%time\n",
    "for i in range(5):\n",
    "    print (np.sin(5))"
   ]
  },
  {
   "cell_type": "markdown",
   "metadata": {},
   "source": [
    "### %magic \n",
    "This command can be used to view a list of all magic commands."
   ]
  },
  {
   "cell_type": "markdown",
   "metadata": {},
   "source": [
    "### The bang (!) is used to run terminal (or shell) commands."
   ]
  },
  {
   "cell_type": "code",
   "execution_count": 7,
   "metadata": {},
   "outputs": [
    {
     "name": "stdout",
     "output_type": "stream",
     "text": [
      "\n",
      "Pinging www.google.com [172.217.160.132] with 32 bytes of data:\n",
      "Reply from 172.217.160.132: bytes=32 time=42ms TTL=54\n",
      "Reply from 172.217.160.132: bytes=32 time=79ms TTL=54\n",
      "Reply from 172.217.160.132: bytes=32 time=97ms TTL=54\n",
      "Reply from 172.217.160.132: bytes=32 time=698ms TTL=54\n",
      "\n",
      "Ping statistics for 172.217.160.132:\n",
      "    Packets: Sent = 4, Received = 4, Lost = 0 (0% loss),\n",
      "Approximate round trip times in milli-seconds:\n",
      "    Minimum = 42ms, Maximum = 698ms, Average = 229ms\n"
     ]
    }
   ],
   "source": [
    "!ping www.google.com"
   ]
  },
  {
   "cell_type": "markdown",
   "metadata": {},
   "source": [
    "We can also assign the result of running shell commands to a variable, and then perform python operations on such variables."
   ]
  },
  {
   "cell_type": "code",
   "execution_count": 8,
   "metadata": {},
   "outputs": [
    {
     "name": "stdout",
     "output_type": "stream",
     "text": [
      "We have 679 files.\n"
     ]
    }
   ],
   "source": [
    "files = !dir /S\n",
    "print('We have {} files.'.format(len(files)))"
   ]
  },
  {
   "cell_type": "markdown",
   "metadata": {},
   "source": [
    "# Understanding Markdown cells\n",
    "\n",
    "* list \n",
    "* of\n",
    "* stuff\n",
    "\n",
    "# Heading 1\n",
    "## Heading 2\n",
    "\n",
    "[Google](www.google.com) is the best search engine.\n",
    "\n",
    "![](https://jdrch.files.wordpress.com/2013/04/python_logo_and_wordmark-svg.png)\n",
    "\n",
    "Euler's equation is $e^{i/pi}+1=0$"
   ]
  },
  {
   "cell_type": "markdown",
   "metadata": {},
   "source": [
    "### Code Cells vs. Markdown Cells\n",
    "There are two types of cells: Code and Markdown.\n",
    "\n",
    "The cell type can be toggled by selecting the dropdown from menu bar. Or using keyboard shortcuts. In Command mode, press M to select Markdown, when cell is highlighted, but not active.\n",
    "\n",
    "Markdown is similar to Github flavored marknown and even supports Latex for formulas."
   ]
  }
 ],
 "metadata": {
  "kernelspec": {
   "display_name": "Python 3",
   "language": "python",
   "name": "python3"
  },
  "language_info": {
   "codemirror_mode": {
    "name": "ipython",
    "version": 3
   },
   "file_extension": ".py",
   "mimetype": "text/x-python",
   "name": "python",
   "nbconvert_exporter": "python",
   "pygments_lexer": "ipython3",
   "version": "3.6.5"
  }
 },
 "nbformat": 4,
 "nbformat_minor": 2
}
